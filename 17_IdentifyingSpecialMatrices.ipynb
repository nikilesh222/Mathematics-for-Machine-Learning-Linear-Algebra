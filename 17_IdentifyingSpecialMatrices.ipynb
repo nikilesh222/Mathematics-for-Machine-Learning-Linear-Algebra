{
 "cells": [
  {
   "cell_type": "markdown",
   "metadata": {},
   "source": [
    "# Identifying special matrices\n",
    "## Instructions\n",
    "In this assignment, you shall write a function that will test if a 4×4 matrix is singular, i.e. to determine if an inverse exists, before calculating it.\n",
    "\n",
    "You shall use the method of converting a matrix to echelon form, and testing if this fails by leaving zeros that can’t be removed on the leading diagonal.\n",
    "\n",
    "Don't worry if you've not coded before, a framework for the function has already been written.\n",
    "Look through the code, and you'll be instructed where to make changes.\n",
    "We'll do the first two rows, and you can use this as a guide to do the last two.\n",
    "\n",
    "### Matrices in Python\n",
    "In the *numpy* package in Python, matrices are indexed using zero for the top-most column and left-most row.\n",
    "I.e., the matrix structure looks like this:\n",
    "```python\n",
    "A[0, 0]  A[0, 1]  A[0, 2]  A[0, 3]\n",
    "A[1, 0]  A[1, 1]  A[1, 2]  A[1, 3]\n",
    "A[2, 0]  A[2, 1]  A[2, 2]  A[2, 3]\n",
    "A[3, 0]  A[3, 1]  A[3, 2]  A[3, 3]\n",
    "```\n",
    "You can access the value of each element individually using,\n",
    "```python\n",
    "A[n, m]\n",
    "```\n",
    "which will give the n'th row and m'th column (starting with zero).\n",
    "You can also access a whole row at a time using,\n",
    "```python\n",
    "A[n]\n",
    "```\n",
    "Which you will see will be useful when calculating linear combinations of rows.\n",
    "\n",
    "A final note - Python is sensitive to indentation.\n",
    "All the code you should complete will be at the same level of indentation as the instruction comment.\n",
    "\n",
    "### How to submit\n",
    "Edit the code in the cell below to complete the assignment.\n",
    "Once you are finished and happy with it, press the *Submit Assignment* button at the top of this notebook.\n",
    "\n",
    "Please don't change any of the function names, as these will be checked by the grading script.\n",
    "\n",
    "If you have further questions about submissions or programming assignments, here is a [list](https://www.coursera.org/learn/linear-algebra-machine-learning/discussions/weeks/1/threads/jB4klkn5EeibtBIQyzFmQg) of Q&A. You can also raise an issue on the discussion forum. Good luck!"
   ]
  },
  {
   "cell_type": "code",
   "execution_count": 7,
   "metadata": {
    "collapsed": true
   },
   "outputs": [
    {
     "name": "stdout",
     "output_type": "stream",
     "text": [
      "False\n"
     ]
    }
   ],
   "source": [
    "import numpy as np\n",
    "\n",
    "class MatrixIsSingular(Exception): pass\n",
    "\n",
    "# Fix row 0: Set the first element to 1, and adjust lower rows\n",
    "def fixRowZero(A):\n",
    "    if A[0, 0] == 0:\n",
    "        A[0] = A[0] + A[1]\n",
    "    if A[0, 0] == 0:\n",
    "        A[0] = A[0] + A[2]\n",
    "    if A[0, 0] == 0:\n",
    "        A[0] = A[0] + A[3]\n",
    "    if A[0, 0] == 0:\n",
    "        raise MatrixIsSingular()\n",
    "    A[0] = A[0] / A[0, 0]\n",
    "    return A\n",
    "\n",
    "# Fix row 1: Set the sub-diagonal element to 0, and set the diagonal element to 1\n",
    "def fixRowOne(A):\n",
    "    A[1] = A[1] - A[1, 0] * A[0]  # Eliminate sub-diagonal element\n",
    "    if A[1, 1] == 0:\n",
    "        A[1] = A[1] + A[2]\n",
    "        A[1] = A[1] - A[1, 0] * A[0]  # Re-eliminate sub-diagonal\n",
    "    if A[1, 1] == 0:\n",
    "        A[1] = A[1] + A[3]\n",
    "        A[1] = A[1] - A[1, 0] * A[0]\n",
    "    if A[1, 1] == 0:\n",
    "        raise MatrixIsSingular()\n",
    "    A[1] = A[1] / A[1, 1]  # Set diagonal element to 1\n",
    "    return A\n",
    "\n",
    "# Fix row 2: Set the sub-diagonal elements to zero\n",
    "def fixRowTwo(A):\n",
    "    A[2] = A[2] - A[2, 0] * A[0]  # Eliminate the sub-diagonal element in the first column\n",
    "    A[2] = A[2] - A[2, 1] * A[1]  # Eliminate the sub-diagonal element in the second column\n",
    "    \n",
    "    if A[2, 2] == 0:\n",
    "        A[2] = A[2] + A[3]  # Add the lower row if diagonal element is zero\n",
    "        A[2] = A[2] - A[2, 0] * A[0]  # Re-eliminate the sub-diagonal element in the first column\n",
    "        A[2] = A[2] - A[2, 1] * A[1]  # Re-eliminate the sub-diagonal element in the second column\n",
    "\n",
    "    if A[2, 2] == 0:\n",
    "        raise MatrixIsSingular()\n",
    "    \n",
    "    A[2] = A[2] / A[2, 2]  # Set diagonal element to 1\n",
    "    return A\n",
    "\n",
    "# Fix row 3: Set the sub-diagonal elements to zero\n",
    "def fixRowThree(A):\n",
    "    A[3] = A[3] - A[3, 0] * A[0]  # Eliminate sub-diagonal element in the first column\n",
    "    A[3] = A[3] - A[3, 1] * A[1]  # Eliminate sub-diagonal element in the second column\n",
    "    A[3] = A[3] - A[3, 2] * A[2]  # Eliminate sub-diagonal element in the third column\n",
    "\n",
    "    if A[3, 3] == 0:\n",
    "        raise MatrixIsSingular()\n",
    "\n",
    "    A[3] = A[3] / A[3, 3]  # Set diagonal element to 1\n",
    "    return A\n",
    "\n",
    "# Check if the matrix is singular\n",
    "def isSingular(A):\n",
    "    B = np.array(A, dtype=np.float_)  # Make a copy of A to work with\n",
    "    try:\n",
    "        fixRowZero(B)\n",
    "        fixRowOne(B)\n",
    "        fixRowTwo(B)\n",
    "        fixRowThree(B)\n",
    "    except MatrixIsSingular:\n",
    "        return True\n",
    "    return False\n",
    "\n",
    "# Example usage:\n",
    "A = np.array([[1, 3, 2, 4],\n",
    "              [2, 6, 5, 8],\n",
    "              [4, 9, 11, 14],\n",
    "              [2, 5, 7, 10]], dtype=float)\n",
    "\n",
    "print(isSingular(A))  # Will return True or False depending on whether the matrix is singular\n"
   ]
  },
  {
   "cell_type": "markdown",
   "metadata": {},
   "source": [
    "## Test your code before submission\n",
    "To test the code you've written above, run the cell (select the cell above, then press the play button [ ▶| ] or press shift-enter).\n",
    "You can then use the code below to test out your function.\n",
    "You don't need to submit this cell; you can edit and run it as much as you like.\n",
    "\n",
    "Try out your code on tricky test cases!"
   ]
  },
  {
   "cell_type": "code",
   "execution_count": 8,
   "metadata": {},
   "outputs": [
    {
     "data": {
      "text/plain": [
       "True"
      ]
     },
     "execution_count": 8,
     "metadata": {},
     "output_type": "execute_result"
    }
   ],
   "source": [
    "A = np.array([\n",
    "        [2, 0, 0, 0],\n",
    "        [0, 3, 0, 0],\n",
    "        [0, 0, 4, 4],\n",
    "        [0, 0, 5, 5]\n",
    "    ], dtype=np.float_)\n",
    "isSingular(A)"
   ]
  },
  {
   "cell_type": "code",
   "execution_count": 9,
   "metadata": {},
   "outputs": [
    {
     "data": {
      "text/plain": [
       "array([[ 1. ,  7.5, -2.5,  3.5],\n",
       "       [ 2. ,  8. ,  0. ,  4. ],\n",
       "       [ 3. , 12. ,  0. ,  5. ],\n",
       "       [ 1. ,  3. ,  1. ,  3. ]])"
      ]
     },
     "execution_count": 9,
     "metadata": {},
     "output_type": "execute_result"
    }
   ],
   "source": [
    "A = np.array([\n",
    "        [0, 7, -5, 3],\n",
    "        [2, 8, 0, 4],\n",
    "        [3, 12, 0, 5],\n",
    "        [1, 3, 1, 3]\n",
    "    ], dtype=np.float_)\n",
    "fixRowZero(A)"
   ]
  },
  {
   "cell_type": "code",
   "execution_count": 10,
   "metadata": {},
   "outputs": [
    {
     "data": {
      "text/plain": [
       "array([[ 1.        ,  7.5       , -2.5       ,  3.5       ],\n",
       "       [-0.        ,  1.        , -0.71428571,  0.42857143],\n",
       "       [ 3.        , 12.        ,  0.        ,  5.        ],\n",
       "       [ 1.        ,  3.        ,  1.        ,  3.        ]])"
      ]
     },
     "execution_count": 10,
     "metadata": {},
     "output_type": "execute_result"
    }
   ],
   "source": [
    "fixRowOne(A)"
   ]
  },
  {
   "cell_type": "code",
   "execution_count": 11,
   "metadata": {},
   "outputs": [
    {
     "data": {
      "text/plain": [
       "array([[ 1.        ,  7.5       , -2.5       ,  3.5       ],\n",
       "       [-0.        ,  1.        , -0.71428571,  0.42857143],\n",
       "       [ 0.        ,  0.        ,  1.        ,  1.5       ],\n",
       "       [ 1.        ,  3.        ,  1.        ,  3.        ]])"
      ]
     },
     "execution_count": 11,
     "metadata": {},
     "output_type": "execute_result"
    }
   ],
   "source": [
    "fixRowTwo(A)"
   ]
  },
  {
   "cell_type": "code",
   "execution_count": 12,
   "metadata": {},
   "outputs": [
    {
     "data": {
      "text/plain": [
       "array([[ 1.        ,  7.5       , -2.5       ,  3.5       ],\n",
       "       [-0.        ,  1.        , -0.71428571,  0.42857143],\n",
       "       [ 0.        ,  0.        ,  1.        ,  1.5       ],\n",
       "       [ 0.        ,  0.        ,  0.        ,  1.        ]])"
      ]
     },
     "execution_count": 12,
     "metadata": {},
     "output_type": "execute_result"
    }
   ],
   "source": [
    "fixRowThree(A)"
   ]
  },
  {
   "cell_type": "code",
   "execution_count": null,
   "metadata": {
    "collapsed": true
   },
   "outputs": [],
   "source": []
  }
 ],
 "metadata": {
  "coursera": {
   "course_slug": "linear-algebra-machine-learning",
   "graded_item_id": "vhy4M",
   "launcher_item_id": "3vbW4"
  },
  "kernelspec": {
   "display_name": "learn-python",
   "language": "python",
   "name": "python3"
  },
  "language_info": {
   "codemirror_mode": {
    "name": "ipython",
    "version": 3
   },
   "file_extension": ".py",
   "mimetype": "text/x-python",
   "name": "python",
   "nbconvert_exporter": "python",
   "pygments_lexer": "ipython3",
   "version": "3.8.20"
  }
 },
 "nbformat": 4,
 "nbformat_minor": 1
}
